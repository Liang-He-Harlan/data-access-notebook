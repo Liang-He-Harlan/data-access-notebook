{
 "cells": [
  {
   "cell_type": "code",
   "id": "initial_id",
   "metadata": {
    "collapsed": true,
    "ExecuteTime": {
     "end_time": "2024-04-27T15:15:24.920674Z",
     "start_time": "2024-04-27T15:15:24.917393Z"
    }
   },
   "source": "import os",
   "outputs": [],
   "execution_count": 1
  },
  {
   "metadata": {
    "ExecuteTime": {
     "end_time": "2024-04-27T15:15:30.289853Z",
     "start_time": "2024-04-27T15:15:30.287683Z"
    }
   },
   "cell_type": "code",
   "source": [
    "\n",
    "def get_all_files_in_directory(directory):\n",
    "    # 获取目录中的所有文件和文件夹\n",
    "    files_and_folders = os.listdir(directory)\n",
    "    # 只保留文件，并去除文件夹\n",
    "    files = [f for f in files_and_folders if os.path.isfile(os.path.join(directory, f))]\n",
    "    return files\n"
   ],
   "id": "c453812de6b0435a",
   "outputs": [],
   "execution_count": 2
  },
  {
   "metadata": {
    "ExecuteTime": {
     "end_time": "2024-04-28T00:11:02.406971Z",
     "start_time": "2024-04-28T00:11:02.404797Z"
    }
   },
   "cell_type": "code",
   "source": [
    "def get_all_files_folders_in_directory(directory):\n",
    "    # 获取目录中的所有文件和文件夹\n",
    "    files_and_folders = os.listdir(directory)\n",
    "    files = [f for f in files_and_folders if os.path.isfile(os.path.join(directory, f))]\n",
    "    folders = [f for f in files_and_folders if os.path.isdir(os.path.join(directory, f))]\n",
    "    # 只保留文件，并去除文件夹\n",
    "    return [files, folders]"
   ],
   "id": "b771cde737cab632",
   "outputs": [],
   "execution_count": 8
  },
  {
   "metadata": {
    "ExecuteTime": {
     "end_time": "2024-04-27T15:17:34.070854Z",
     "start_time": "2024-04-27T15:17:34.068618Z"
    }
   },
   "cell_type": "code",
   "source": [
    "\n",
    "# 指定目录\n",
    "directory_path = \"/media/liang/Liang He/000_AAA_Ubuntu_Projects/CAN_VAE\"\n",
    "\n",
    "# 获取指定目录下的所有文件名\n",
    "files = get_all_files_in_directory(directory_path)\n",
    "\n",
    "# 打印文件名\n",
    "for file in files:\n",
    "    print(file)"
   ],
   "id": "4dfe73ef4dbdda08",
   "outputs": [
    {
     "name": "stdout",
     "output_type": "stream",
     "text": [
      "README.md\n",
      "dataset.py\n",
      "experiment.py\n",
      "run.py\n",
      "requirements.txt\n",
      "utils.py\n",
      "generate_sample.ipynb\n",
      "check_hidden_dims.ipynb\n"
     ]
    }
   ],
   "execution_count": 6
  },
  {
   "metadata": {
    "ExecuteTime": {
     "end_time": "2024-04-28T00:11:05.731705Z",
     "start_time": "2024-04-28T00:11:05.729496Z"
    }
   },
   "cell_type": "code",
   "source": [
    "# 获取指定目录下的所有文件名\n",
    "files = get_all_files_folders_in_directory(directory_path)\n",
    "\n",
    "# 打印文件名\n",
    "for file in files:\n",
    "    print(file)"
   ],
   "id": "2bb645ce7583135e",
   "outputs": [
    {
     "name": "stdout",
     "output_type": "stream",
     "text": [
      "['README.md', 'dataset.py', 'experiment.py', 'run.py', 'requirements.txt', 'utils.py', 'generate_sample.ipynb', 'check_hidden_dims.ipynb']\n",
      "['.git', '.idea', 'reproduce', 'logs', 'configs', 'data', 'models', 'tests', '__pycache__', 'lightning_logs', 'venv']\n"
     ]
    }
   ],
   "execution_count": 9
  },
  {
   "metadata": {
    "ExecuteTime": {
     "end_time": "2024-04-28T00:55:53.445061Z",
     "start_time": "2024-04-28T00:55:53.443346Z"
    }
   },
   "cell_type": "code",
   "source": "import paramiko",
   "id": "934f6bc577e2644d",
   "outputs": [],
   "execution_count": 11
  },
  {
   "metadata": {
    "ExecuteTime": {
     "end_time": "2024-04-28T01:00:46.398606Z",
     "start_time": "2024-04-28T01:00:43.996565Z"
    }
   },
   "cell_type": "code",
   "source": [
    "ssh = paramiko.SSHClient()\n",
    "ssh.set_missing_host_key_policy(paramiko.AutoAddPolicy())\n",
    "\n",
    "\n",
    "private_key = paramiko.RSAKey.from_private_key_file('id_rsa102.txt')\n",
    "\n",
    "ssh.connect('beluga.computecanada.ca', username='lianghe', password='1',  pkey=private_key)\n",
    "\n",
    "sftp = ssh.open_sftp()\n",
    "\n",
    "\n"
   ],
   "id": "27bc60253ae50cd1",
   "outputs": [
    {
     "ename": "BadAuthenticationType",
     "evalue": "Bad authentication type; allowed types: ['publickey', 'keyboard-interactive', 'hostbased']",
     "output_type": "error",
     "traceback": [
      "\u001B[0;31m---------------------------------------------------------------------------\u001B[0m",
      "\u001B[0;31mAuthenticationException\u001B[0m                   Traceback (most recent call last)",
      "File \u001B[0;32m/usr/lib/python3/dist-packages/paramiko/transport.py:1612\u001B[0m, in \u001B[0;36mTransport.auth_password\u001B[0;34m(self, username, password, event, fallback)\u001B[0m\n\u001B[1;32m   1610\u001B[0m         \u001B[38;5;28;01mreturn\u001B[39;00m [password]\n\u001B[0;32m-> 1612\u001B[0m     \u001B[38;5;28;01mreturn\u001B[39;00m \u001B[38;5;28;43mself\u001B[39;49m\u001B[38;5;241;43m.\u001B[39;49m\u001B[43mauth_interactive\u001B[49m\u001B[43m(\u001B[49m\u001B[43musername\u001B[49m\u001B[43m,\u001B[49m\u001B[43m \u001B[49m\u001B[43mhandler\u001B[49m\u001B[43m)\u001B[49m\n\u001B[1;32m   1613\u001B[0m \u001B[38;5;28;01mexcept\u001B[39;00m SSHException:\n\u001B[1;32m   1614\u001B[0m     \u001B[38;5;66;03m# attempt failed; just raise the original exception\u001B[39;00m\n",
      "File \u001B[0;32m/usr/lib/python3/dist-packages/paramiko/transport.py:1717\u001B[0m, in \u001B[0;36mTransport.auth_interactive\u001B[0;34m(self, username, handler, submethods)\u001B[0m\n\u001B[1;32m   1714\u001B[0m \u001B[38;5;28mself\u001B[39m\u001B[38;5;241m.\u001B[39mauth_handler\u001B[38;5;241m.\u001B[39mauth_interactive(\n\u001B[1;32m   1715\u001B[0m     username, handler, my_event, submethods\n\u001B[1;32m   1716\u001B[0m )\n\u001B[0;32m-> 1717\u001B[0m \u001B[38;5;28;01mreturn\u001B[39;00m \u001B[38;5;28;43mself\u001B[39;49m\u001B[38;5;241;43m.\u001B[39;49m\u001B[43mauth_handler\u001B[49m\u001B[38;5;241;43m.\u001B[39;49m\u001B[43mwait_for_response\u001B[49m\u001B[43m(\u001B[49m\u001B[43mmy_event\u001B[49m\u001B[43m)\u001B[49m\n",
      "File \u001B[0;32m/usr/lib/python3/dist-packages/paramiko/auth_handler.py:258\u001B[0m, in \u001B[0;36mAuthHandler.wait_for_response\u001B[0;34m(self, event)\u001B[0m\n\u001B[1;32m    257\u001B[0m         \u001B[38;5;28;01mreturn\u001B[39;00m e\u001B[38;5;241m.\u001B[39mallowed_types\n\u001B[0;32m--> 258\u001B[0m     \u001B[38;5;28;01mraise\u001B[39;00m e\n\u001B[1;32m    259\u001B[0m \u001B[38;5;28;01mreturn\u001B[39;00m []\n",
      "\u001B[0;31mAuthenticationException\u001B[0m: Authentication failed.",
      "\nDuring handling of the above exception, another exception occurred:\n",
      "\u001B[0;31mBadAuthenticationType\u001B[0m                     Traceback (most recent call last)",
      "Cell \u001B[0;32mIn[14], line 4\u001B[0m\n\u001B[1;32m      1\u001B[0m ssh \u001B[38;5;241m=\u001B[39m paramiko\u001B[38;5;241m.\u001B[39mSSHClient()\n\u001B[1;32m      2\u001B[0m ssh\u001B[38;5;241m.\u001B[39mset_missing_host_key_policy(paramiko\u001B[38;5;241m.\u001B[39mAutoAddPolicy())\n\u001B[0;32m----> 4\u001B[0m \u001B[43mssh\u001B[49m\u001B[38;5;241;43m.\u001B[39;49m\u001B[43mconnect\u001B[49m\u001B[43m(\u001B[49m\u001B[38;5;124;43m'\u001B[39;49m\u001B[38;5;124;43mbeluga.computecanada.ca\u001B[39;49m\u001B[38;5;124;43m'\u001B[39;49m\u001B[43m,\u001B[49m\u001B[43m \u001B[49m\u001B[43musername\u001B[49m\u001B[38;5;241;43m=\u001B[39;49m\u001B[38;5;124;43m'\u001B[39;49m\u001B[38;5;124;43mlianghe\u001B[39;49m\u001B[38;5;124;43m'\u001B[39;49m\u001B[43m,\u001B[49m\u001B[43m \u001B[49m\u001B[43mpassword\u001B[49m\u001B[38;5;241;43m=\u001B[39;49m\u001B[38;5;124;43m'\u001B[39;49m\u001B[38;5;124;43m1\u001B[39;49m\u001B[38;5;124;43m'\u001B[39;49m\u001B[43m,\u001B[49m\u001B[43m  \u001B[49m\u001B[43mallow_agent\u001B[49m\u001B[38;5;241;43m=\u001B[39;49m\u001B[38;5;28;43;01mFalse\u001B[39;49;00m\u001B[43m,\u001B[49m\u001B[43mlook_for_keys\u001B[49m\u001B[38;5;241;43m=\u001B[39;49m\u001B[38;5;28;43;01mFalse\u001B[39;49;00m\u001B[43m)\u001B[49m\n\u001B[1;32m      6\u001B[0m sftp \u001B[38;5;241m=\u001B[39m ssh\u001B[38;5;241m.\u001B[39mopen_sftp()\n",
      "File \u001B[0;32m/usr/lib/python3/dist-packages/paramiko/client.py:435\u001B[0m, in \u001B[0;36mSSHClient.connect\u001B[0;34m(self, hostname, port, username, password, pkey, key_filename, timeout, allow_agent, look_for_keys, compress, sock, gss_auth, gss_kex, gss_deleg_creds, gss_host, banner_timeout, auth_timeout, gss_trust_dns, passphrase, disabled_algorithms)\u001B[0m\n\u001B[1;32m    432\u001B[0m \u001B[38;5;28;01melse\u001B[39;00m:\n\u001B[1;32m    433\u001B[0m     key_filenames \u001B[38;5;241m=\u001B[39m key_filename\n\u001B[0;32m--> 435\u001B[0m \u001B[38;5;28;43mself\u001B[39;49m\u001B[38;5;241;43m.\u001B[39;49m\u001B[43m_auth\u001B[49m\u001B[43m(\u001B[49m\n\u001B[1;32m    436\u001B[0m \u001B[43m    \u001B[49m\u001B[43musername\u001B[49m\u001B[43m,\u001B[49m\n\u001B[1;32m    437\u001B[0m \u001B[43m    \u001B[49m\u001B[43mpassword\u001B[49m\u001B[43m,\u001B[49m\n\u001B[1;32m    438\u001B[0m \u001B[43m    \u001B[49m\u001B[43mpkey\u001B[49m\u001B[43m,\u001B[49m\n\u001B[1;32m    439\u001B[0m \u001B[43m    \u001B[49m\u001B[43mkey_filenames\u001B[49m\u001B[43m,\u001B[49m\n\u001B[1;32m    440\u001B[0m \u001B[43m    \u001B[49m\u001B[43mallow_agent\u001B[49m\u001B[43m,\u001B[49m\n\u001B[1;32m    441\u001B[0m \u001B[43m    \u001B[49m\u001B[43mlook_for_keys\u001B[49m\u001B[43m,\u001B[49m\n\u001B[1;32m    442\u001B[0m \u001B[43m    \u001B[49m\u001B[43mgss_auth\u001B[49m\u001B[43m,\u001B[49m\n\u001B[1;32m    443\u001B[0m \u001B[43m    \u001B[49m\u001B[43mgss_kex\u001B[49m\u001B[43m,\u001B[49m\n\u001B[1;32m    444\u001B[0m \u001B[43m    \u001B[49m\u001B[43mgss_deleg_creds\u001B[49m\u001B[43m,\u001B[49m\n\u001B[1;32m    445\u001B[0m \u001B[43m    \u001B[49m\u001B[43mt\u001B[49m\u001B[38;5;241;43m.\u001B[39;49m\u001B[43mgss_host\u001B[49m\u001B[43m,\u001B[49m\n\u001B[1;32m    446\u001B[0m \u001B[43m    \u001B[49m\u001B[43mpassphrase\u001B[49m\u001B[43m,\u001B[49m\n\u001B[1;32m    447\u001B[0m \u001B[43m\u001B[49m\u001B[43m)\u001B[49m\n",
      "File \u001B[0;32m/usr/lib/python3/dist-packages/paramiko/client.py:766\u001B[0m, in \u001B[0;36mSSHClient._auth\u001B[0;34m(self, username, password, pkey, key_filenames, allow_agent, look_for_keys, gss_auth, gss_kex, gss_deleg_creds, gss_host, passphrase)\u001B[0m\n\u001B[1;32m    764\u001B[0m \u001B[38;5;66;03m# if we got an auth-failed exception earlier, re-raise it\u001B[39;00m\n\u001B[1;32m    765\u001B[0m \u001B[38;5;28;01mif\u001B[39;00m saved_exception \u001B[38;5;129;01mis\u001B[39;00m \u001B[38;5;129;01mnot\u001B[39;00m \u001B[38;5;28;01mNone\u001B[39;00m:\n\u001B[0;32m--> 766\u001B[0m     \u001B[38;5;28;01mraise\u001B[39;00m saved_exception\n\u001B[1;32m    767\u001B[0m \u001B[38;5;28;01mraise\u001B[39;00m SSHException(\u001B[38;5;124m\"\u001B[39m\u001B[38;5;124mNo authentication methods available\u001B[39m\u001B[38;5;124m\"\u001B[39m)\n",
      "File \u001B[0;32m/usr/lib/python3/dist-packages/paramiko/client.py:753\u001B[0m, in \u001B[0;36mSSHClient._auth\u001B[0;34m(self, username, password, pkey, key_filenames, allow_agent, look_for_keys, gss_auth, gss_kex, gss_deleg_creds, gss_host, passphrase)\u001B[0m\n\u001B[1;32m    751\u001B[0m \u001B[38;5;28;01mif\u001B[39;00m password \u001B[38;5;129;01mis\u001B[39;00m \u001B[38;5;129;01mnot\u001B[39;00m \u001B[38;5;28;01mNone\u001B[39;00m:\n\u001B[1;32m    752\u001B[0m     \u001B[38;5;28;01mtry\u001B[39;00m:\n\u001B[0;32m--> 753\u001B[0m         \u001B[38;5;28;43mself\u001B[39;49m\u001B[38;5;241;43m.\u001B[39;49m\u001B[43m_transport\u001B[49m\u001B[38;5;241;43m.\u001B[39;49m\u001B[43mauth_password\u001B[49m\u001B[43m(\u001B[49m\u001B[43musername\u001B[49m\u001B[43m,\u001B[49m\u001B[43m \u001B[49m\u001B[43mpassword\u001B[49m\u001B[43m)\u001B[49m\n\u001B[1;32m    754\u001B[0m         \u001B[38;5;28;01mreturn\u001B[39;00m\n\u001B[1;32m    755\u001B[0m     \u001B[38;5;28;01mexcept\u001B[39;00m SSHException \u001B[38;5;28;01mas\u001B[39;00m e:\n",
      "File \u001B[0;32m/usr/lib/python3/dist-packages/paramiko/transport.py:1615\u001B[0m, in \u001B[0;36mTransport.auth_password\u001B[0;34m(self, username, password, event, fallback)\u001B[0m\n\u001B[1;32m   1612\u001B[0m     \u001B[38;5;28;01mreturn\u001B[39;00m \u001B[38;5;28mself\u001B[39m\u001B[38;5;241m.\u001B[39mauth_interactive(username, handler)\n\u001B[1;32m   1613\u001B[0m \u001B[38;5;28;01mexcept\u001B[39;00m SSHException:\n\u001B[1;32m   1614\u001B[0m     \u001B[38;5;66;03m# attempt failed; just raise the original exception\u001B[39;00m\n\u001B[0;32m-> 1615\u001B[0m     \u001B[38;5;28;01mraise\u001B[39;00m e\n",
      "File \u001B[0;32m/usr/lib/python3/dist-packages/paramiko/transport.py:1593\u001B[0m, in \u001B[0;36mTransport.auth_password\u001B[0;34m(self, username, password, event, fallback)\u001B[0m\n\u001B[1;32m   1591\u001B[0m     \u001B[38;5;28;01mreturn\u001B[39;00m []\n\u001B[1;32m   1592\u001B[0m \u001B[38;5;28;01mtry\u001B[39;00m:\n\u001B[0;32m-> 1593\u001B[0m     \u001B[38;5;28;01mreturn\u001B[39;00m \u001B[38;5;28;43mself\u001B[39;49m\u001B[38;5;241;43m.\u001B[39;49m\u001B[43mauth_handler\u001B[49m\u001B[38;5;241;43m.\u001B[39;49m\u001B[43mwait_for_response\u001B[49m\u001B[43m(\u001B[49m\u001B[43mmy_event\u001B[49m\u001B[43m)\u001B[49m\n\u001B[1;32m   1594\u001B[0m \u001B[38;5;28;01mexcept\u001B[39;00m BadAuthenticationType \u001B[38;5;28;01mas\u001B[39;00m e:\n\u001B[1;32m   1595\u001B[0m     \u001B[38;5;66;03m# if password auth isn't allowed, but keyboard-interactive *is*,\u001B[39;00m\n\u001B[1;32m   1596\u001B[0m     \u001B[38;5;66;03m# try to fudge it\u001B[39;00m\n\u001B[1;32m   1597\u001B[0m     \u001B[38;5;28;01mif\u001B[39;00m \u001B[38;5;129;01mnot\u001B[39;00m fallback \u001B[38;5;129;01mor\u001B[39;00m (\u001B[38;5;124m\"\u001B[39m\u001B[38;5;124mkeyboard-interactive\u001B[39m\u001B[38;5;124m\"\u001B[39m \u001B[38;5;129;01mnot\u001B[39;00m \u001B[38;5;129;01min\u001B[39;00m e\u001B[38;5;241m.\u001B[39mallowed_types):\n",
      "File \u001B[0;32m/usr/lib/python3/dist-packages/paramiko/auth_handler.py:258\u001B[0m, in \u001B[0;36mAuthHandler.wait_for_response\u001B[0;34m(self, event)\u001B[0m\n\u001B[1;32m    256\u001B[0m     \u001B[38;5;28;01mif\u001B[39;00m \u001B[38;5;28missubclass\u001B[39m(e\u001B[38;5;241m.\u001B[39m\u001B[38;5;18m__class__\u001B[39m, PartialAuthentication):\n\u001B[1;32m    257\u001B[0m         \u001B[38;5;28;01mreturn\u001B[39;00m e\u001B[38;5;241m.\u001B[39mallowed_types\n\u001B[0;32m--> 258\u001B[0m     \u001B[38;5;28;01mraise\u001B[39;00m e\n\u001B[1;32m    259\u001B[0m \u001B[38;5;28;01mreturn\u001B[39;00m []\n",
      "\u001B[0;31mBadAuthenticationType\u001B[0m: Bad authentication type; allowed types: ['publickey', 'keyboard-interactive', 'hostbased']"
     ]
    }
   ],
   "execution_count": 14
  },
  {
   "metadata": {},
   "cell_type": "code",
   "outputs": [],
   "execution_count": null,
   "source": "",
   "id": "c0d09c9015586272"
  },
  {
   "metadata": {},
   "cell_type": "code",
   "outputs": [],
   "execution_count": null,
   "source": [
    "sftp.put('local_file_path', 'remote_file_path')\n",
    "sftp.get('remote_file_path', 'local_file_path')\n",
    "\n",
    "files = sftp.listdir('directory_path')\n",
    "\n",
    "sftp.remove('file_path')\n",
    "\n",
    "sftp.close()\n",
    "ssh.close()"
   ],
   "id": "cb61be1f9eb7e42b"
  },
  {
   "metadata": {},
   "cell_type": "code",
   "outputs": [],
   "execution_count": null,
   "source": "",
   "id": "1f12442808fd6f82"
  },
  {
   "metadata": {
    "ExecuteTime": {
     "end_time": "2024-04-29T01:59:41.768012Z",
     "start_time": "2024-04-29T01:59:41.765076Z"
    }
   },
   "cell_type": "code",
   "source": [
    "import os\n",
    "import zipfile\n",
    "\n",
    "def zip_directory(source_dir, target_dir, zip_name, max_size):\n",
    "    zip_path = os.path.join(target_dir, zip_name)\n",
    "    with zipfile.ZipFile(zip_path, 'w', zipfile.ZIP_DEFLATED, allowZip64=True) as zipf:\n",
    "        for root, dirs, files in os.walk(source_dir):\n",
    "            for file in files:\n",
    "                file_path = os.path.join(root, file)\n",
    "                relative_path = os.path.relpath(file_path, source_dir)\n",
    "                zipf.write(file_path, arcname=relative_path)\n",
    "\n",
    "    # 分卷压缩\n",
    "    with open(zip_path, 'rb') as f_in:\n",
    "        chunk_num = 1\n",
    "        while True:\n",
    "            chunk_name = f\"{zip_name}.part{chunk_num:02d}\"\n",
    "            with open(os.path.join(target_dir, chunk_name), 'wb') as f_out:\n",
    "                data = f_in.read(max_size)\n",
    "                if not data:\n",
    "                    break\n",
    "                f_out.write(data)\n",
    "                chunk_num += 1\n",
    "    os.remove(zip_path)\n"
   ],
   "id": "b08f307e99833da8",
   "outputs": [],
   "execution_count": 20
  },
  {
   "metadata": {
    "ExecuteTime": {
     "end_time": "2024-04-29T02:03:58.372852Z",
     "start_time": "2024-04-29T02:02:34.264222Z"
    }
   },
   "cell_type": "code",
   "source": [
    "zir_dir_c = '/media/liang/Expansion/HCP_lifespan/'\n",
    "source_dir = zir_dir_c+'HCD0001305_V1_MR'\n",
    "target_dir = zir_dir_c+'test1/'\n",
    "zip_name = \"compressed.zip\"\n",
    "\n",
    "max_size = 1024 * 1024 * 1024  # 1GB\n",
    "zip_directory(source_dir, target_dir, zip_name, max_size)\n",
    "print(f\"压缩完成，压缩文件保存在 {target_dir}，分卷大小为 {max_size / (1024 * 1024)} MB\")"
   ],
   "id": "8bfb4d22bd5afd90",
   "outputs": [
    {
     "name": "stdout",
     "output_type": "stream",
     "text": [
      "压缩完成，压缩文件保存在 /media/liang/Expansion/HCP_lifespan/test1/，分卷大小为 1024.0 MB\n"
     ]
    }
   ],
   "execution_count": 23
  },
  {
   "metadata": {},
   "cell_type": "code",
   "outputs": [],
   "execution_count": null,
   "source": "",
   "id": "ac806fe55c8fbbed"
  },
  {
   "metadata": {},
   "cell_type": "code",
   "outputs": [],
   "execution_count": null,
   "source": "",
   "id": "6f3048f388ae3017"
  },
  {
   "metadata": {},
   "cell_type": "code",
   "outputs": [],
   "execution_count": null,
   "source": "",
   "id": "c7aae2fbf4268f21"
  },
  {
   "metadata": {
    "ExecuteTime": {
     "end_time": "2024-04-29T02:04:51.683519Z",
     "start_time": "2024-04-29T02:04:51.681272Z"
    }
   },
   "cell_type": "code",
   "source": [
    "def get_all_files_folders_in_directory(directory):\n",
    "    # 获取目录中的所有文件和文件夹\n",
    "    files_and_folders = os.listdir(directory)\n",
    "    files = [f for f in files_and_folders if os.path.isfile(os.path.join(directory, f))]\n",
    "    folders = [f for f in files_and_folders if os.path.isdir(os.path.join(directory, f))]\n",
    "    # 只保留文件，并去除文件夹\n",
    "    return [files, folders]"
   ],
   "id": "bb5ad7c8afb8b24",
   "outputs": [],
   "execution_count": 24
  },
  {
   "metadata": {
    "ExecuteTime": {
     "end_time": "2024-04-29T02:04:52.563434Z",
     "start_time": "2024-04-29T02:04:52.561745Z"
    }
   },
   "cell_type": "code",
   "source": [
    "zir_dir_c = '/media/liang/Expansion/HCP_lifespan/'\n",
    "source_dir = zir_dir_c+'HCD0001305_V1_MR'"
   ],
   "id": "6d9e3c4513b5e1ec",
   "outputs": [],
   "execution_count": 25
  },
  {
   "metadata": {
    "ExecuteTime": {
     "end_time": "2024-04-29T02:05:13.210058Z",
     "start_time": "2024-04-29T02:05:13.208166Z"
    }
   },
   "cell_type": "code",
   "source": "files_folders = get_all_files_folders_in_directory(source_dir)",
   "id": "be79b770c3282b2b",
   "outputs": [],
   "execution_count": 27
  },
  {
   "metadata": {
    "ExecuteTime": {
     "end_time": "2024-04-29T02:06:04.144699Z",
     "start_time": "2024-04-29T02:06:04.143194Z"
    }
   },
   "cell_type": "code",
   "source": "",
   "id": "4f786613361ce9e2",
   "outputs": [],
   "execution_count": 29
  },
  {
   "metadata": {
    "ExecuteTime": {
     "end_time": "2024-04-29T02:27:29.459389Z",
     "start_time": "2024-04-29T02:27:29.457652Z"
    }
   },
   "cell_type": "code",
   "source": [
    "import os\n",
    "import zipfile"
   ],
   "id": "543ebe64b5020a2d",
   "outputs": [],
   "execution_count": 66
  },
  {
   "metadata": {
    "ExecuteTime": {
     "end_time": "2024-04-29T02:27:30.534028Z",
     "start_time": "2024-04-29T02:27:30.531683Z"
    }
   },
   "cell_type": "code",
   "source": [
    "\n",
    "def zip_directory(source_dir, target_dir, zip_name):\n",
    "    zip_path = os.path.join(target_dir, zip_name)\n",
    "    with zipfile.ZipFile(zip_path, 'w') as zipf:\n",
    "        for root, dirs, files in os.walk(source_dir):\n",
    "            for file in files:\n",
    "                file_path = os.path.join(root, file)\n",
    "                relative_path = os.path.relpath(file_path, source_dir)\n",
    "                zipf.write(file_path, arcname=relative_path)"
   ],
   "id": "b2e21e6ba2c6bb4b",
   "outputs": [],
   "execution_count": 67
  },
  {
   "metadata": {
    "ExecuteTime": {
     "end_time": "2024-04-29T02:27:31.105274Z",
     "start_time": "2024-04-29T02:27:31.102761Z"
    }
   },
   "cell_type": "code",
   "source": [
    "def zip_files(source_dir, target_dir, zip_name):\n",
    "    # 构造压缩文件的完整路径\n",
    "    zip_path = os.path.join(target_dir, zip_name)\n",
    "    # 创建一个 ZipFile 对象，用于写入压缩文件\n",
    "    with zipfile.ZipFile(zip_path, 'w') as zipf:\n",
    "        # 遍历指定目录下的所有文件\n",
    "        files_and_folders = os.listdir(source_dir)\n",
    "        files = [f for f in files_and_folders if os.path.isfile(os.path.join(source_dir, f))]\n",
    "        \n",
    "        for file in files:\n",
    "            file_path = os.path.join(source_dir, file)\n",
    "            # 将文件写入压缩文件\n",
    "            if os.path.isdir(file_path):\n",
    "                continue\n",
    "            zipf.write(file_path, arcname=os.path.relpath(file_path, source_dir))\n"
   ],
   "id": "a96c6144b8d347c7",
   "outputs": [],
   "execution_count": 68
  },
  {
   "metadata": {
    "ExecuteTime": {
     "end_time": "2024-04-29T02:28:49.370830Z",
     "start_time": "2024-04-29T02:28:49.369038Z"
    }
   },
   "cell_type": "code",
   "source": [
    "# 指定要压缩的文件夹路径和压缩后的目录路径\n",
    "zir_dir_c = '/media/liang/Expansion/HCP_lifespan/'\n",
    "source_dir = zir_dir_c+'HCD0001305_V1_MR/ProcessingInfo/'\n",
    "target_dir = zir_dir_c+'test1/'\n",
    "zip_name = \"compressed_files_\"\n",
    "\n"
   ],
   "id": "28f7329cd80d0e8c",
   "outputs": [],
   "execution_count": 69
  },
  {
   "metadata": {
    "ExecuteTime": {
     "end_time": "2024-04-29T02:44:19.223161Z",
     "start_time": "2024-04-29T02:44:19.221117Z"
    }
   },
   "cell_type": "code",
   "source": "[hcp_files, hcp_folders] = get_all_files_folders_in_directory(source_dir)",
   "id": "e6e66cea26b94b6d",
   "outputs": [],
   "execution_count": 74
  },
  {
   "metadata": {
    "ExecuteTime": {
     "end_time": "2024-04-29T02:44:22.316090Z",
     "start_time": "2024-04-29T02:44:22.313236Z"
    }
   },
   "cell_type": "code",
   "source": "hcp_files",
   "id": "797a246a996b1e50",
   "outputs": [
    {
     "data": {
      "text/plain": [
       "['HCD0001305_V1_MR.MultiRunIcaFixProcessing.PROCESS_DATA_job.sh.e8219119',\n",
       " 'HCD0001305_V1_MR_tfMRI_CARIT_PA.FunctionalPreprocessing.PROCESS_DATA_job.sh',\n",
       " 'HCD0001305_V1_MR_tfMRI_GUESSING_AP.FunctionalPreprocessing.PROCESS_DATA_job.sh.o7864158',\n",
       " 'HCD0001305_V1_MR_rfMRI_REST2_PA.FunctionalPreprocessing.PROCESS_DATA_job.sh.o7864126',\n",
       " 'HCD0001305_V1_MR_tfMRI_CARIT_AP.FunctionalPreprocessing.PROCESS_DATA_job.sh.o7864132',\n",
       " 'HCD0001305_V1_MR_rfMRI_REST1_AP.FunctionalPreprocessing.PROCESS_DATA_job.sh.o7864107',\n",
       " 'HCD0001305_V1_MR.MultiRunIcaFixProcessing.PROCESS_DATA_job.sh.o8219119',\n",
       " 'HCD0001305_V1_MR_tfMRI_CARIT_PA.FunctionalPreprocessing.PROCESS_DATA_job.sh.o7864141',\n",
       " 'HCD0001305_V1_MR_rfMRI_REST2_AP.FunctionalPreprocessing.PROCESS_DATA_job.sh.o7864120',\n",
       " 'HCD0001305_V1_MR_rfMRI_REST1_AP.FunctionalPreprocessing.PROCESS_DATA_job.sh.e7864107',\n",
       " 'HCD0001305_V1_MR.StructuralPreprocessing.PROCESS_DATA_job.sh',\n",
       " 'HCD0001305_V1_MR.MsmAllProcessing.PROCESS_DATA_job.sh',\n",
       " 'HCD0001305_V1_MR.MsmAllProcessing.PROCESS_DATA_job.sh.e8906658',\n",
       " 'HCD0001305_V1_MR_tfMRI_EMOTION_PA.FunctionalPreprocessing.PROCESS_DATA_job.sh.e7864149',\n",
       " 'HCD0001305_V1_MR_tfMRI_GUESSING_AP.FunctionalPreprocessing.PROCESS_DATA_job.sh.e7864158',\n",
       " 'HCD0001305_V1_MR_tfMRI_GUESSING_PA.FunctionalPreprocessing.PROCESS_DATA_job.sh.o7864166',\n",
       " 'HCD0001305_V1_MR_tfMRI_GUESSING_AP.FunctionalPreprocessing.PROCESS_DATA_job.sh',\n",
       " 'HCD0001305_V1_MR_rfMRI_REST2_PA.FunctionalPreprocessing.PROCESS_DATA_job.sh.e7864126',\n",
       " 'HCD0001305_V1_MR_rfMRI_REST2_AP.FunctionalPreprocessing.PROCESS_DATA_job.sh',\n",
       " 'HCD0001305_V1_MR_tfMRI_EMOTION_PA.FunctionalPreprocessing.PROCESS_DATA_job.sh.o7864149',\n",
       " 'HCD0001305_V1_MR_rfMRI_REST2_AP.FunctionalPreprocessing.PROCESS_DATA_job.sh.e7864120',\n",
       " 'HCD0001305_V1_MR_rfMRI_REST2_PA.FunctionalPreprocessing.PROCESS_DATA_job.sh',\n",
       " 'HCD0001305_V1_MR.MsmAllProcessing.PROCESS_DATA_job.sh.o8906658',\n",
       " 'HCD0001305_V1_MR_rfMRI_REST1_AP.FunctionalPreprocessing.PROCESS_DATA_job.sh',\n",
       " 'HCD0001305_V1_MR_rfMRI_REST1_PA.FunctionalPreprocessing.PROCESS_DATA_job.sh',\n",
       " 'HCD0001305_V1_MR_tfMRI_GUESSING_PA.FunctionalPreprocessing.PROCESS_DATA_job.sh.e7864166',\n",
       " 'HCD0001305_V1_MR_tfMRI_CARIT_PA.FunctionalPreprocessing.PROCESS_DATA_job.sh.e7864141',\n",
       " 'HCD0001305_V1_MR_tfMRI_EMOTION_PA.FunctionalPreprocessing.PROCESS_DATA_job.sh',\n",
       " 'HCD0001305_V1_MR.MultiRunIcaFixProcessing.PROCESS_DATA_job.sh',\n",
       " 'HCD0001305_V1_MR_tfMRI_CARIT_AP.FunctionalPreprocessing.PROCESS_DATA_job.sh.e7864132',\n",
       " 'HCD0001305_V1_MR_tfMRI_GUESSING_PA.FunctionalPreprocessing.PROCESS_DATA_job.sh',\n",
       " 'HCD0001305_V1_MR_tfMRI_CARIT_AP.FunctionalPreprocessing.PROCESS_DATA_job.sh']"
      ]
     },
     "execution_count": 75,
     "metadata": {},
     "output_type": "execute_result"
    }
   ],
   "execution_count": 75
  },
  {
   "metadata": {
    "ExecuteTime": {
     "end_time": "2024-04-29T02:28:49.840422Z",
     "start_time": "2024-04-29T02:28:49.838246Z"
    }
   },
   "cell_type": "code",
   "source": "files_folders = get_all_files_folders_in_directory(source_dir)",
   "id": "6e6715a9fe7ea487",
   "outputs": [],
   "execution_count": 70
  },
  {
   "metadata": {
    "ExecuteTime": {
     "end_time": "2024-04-29T02:31:49.436229Z",
     "start_time": "2024-04-29T02:31:49.413755Z"
    }
   },
   "cell_type": "code",
   "source": [
    "if len(files_folders[0]) == 0:\n",
    "    pass\n",
    "else:\n",
    "    zip_files(source_dir, target_dir, zip_name+'onlyfiles.zip')\n",
    "\n",
    "if len(files_folders[1]) == 0:\n",
    "    pass\n",
    "else:\n",
    "    for files_dir in files_folders[1]:\n",
    "        zip_directory(source_dir+'/'+files_dir, target_dir, zip_name+'folders_'+files_dir+'.zip')"
   ],
   "id": "7c91c0cb9e8bb9d7",
   "outputs": [],
   "execution_count": 73
  },
  {
   "metadata": {
    "ExecuteTime": {
     "end_time": "2024-04-29T03:08:22.837081Z",
     "start_time": "2024-04-29T03:08:22.835192Z"
    }
   },
   "cell_type": "code",
   "source": [
    "# 检查目标路径是否存在，不存在时创建\n",
    "if not os.path.exists(target_dir+'cc'):\n",
    "    os.makedirs(target_dir+'cc')"
   ],
   "id": "c3327fd067a32139",
   "outputs": [],
   "execution_count": 77
  },
  {
   "metadata": {},
   "cell_type": "code",
   "outputs": [],
   "execution_count": null,
   "source": "",
   "id": "3840d707eaf98d31"
  }
 ],
 "metadata": {
  "kernelspec": {
   "display_name": "Python 3",
   "language": "python",
   "name": "python3"
  },
  "language_info": {
   "codemirror_mode": {
    "name": "ipython",
    "version": 2
   },
   "file_extension": ".py",
   "mimetype": "text/x-python",
   "name": "python",
   "nbconvert_exporter": "python",
   "pygments_lexer": "ipython2",
   "version": "2.7.6"
  }
 },
 "nbformat": 4,
 "nbformat_minor": 5
}
