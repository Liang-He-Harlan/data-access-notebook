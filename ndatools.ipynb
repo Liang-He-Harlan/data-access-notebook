{
 "cells": [
  {
   "cell_type": "markdown",
   "metadata": {},
   "source": [
    "<html>\n",
    "    <div style = \"display: inline-block; width=150px; height=75px;\">\n",
    "        <h2>Validating Data Using nda-tools</h2>\n",
    "        <ul><li>nda-tools allow users to work with webservices directly in their pipelines</li>\n",
    "           <li>this will ensure data generated complies with NIMH standards at an earlier stage</li></ul>\n",
    "    </div>\n",
    "    \n",
    "</html>"
   ]
  },
  {
   "cell_type": "code",
   "execution_count": null,
   "metadata": {},
   "outputs": [],
   "source": [
    "from NDATools import Configuration, Validation\n",
    "from ipywidgets import widgets\n",
    "from IPython.display import display\n",
    "import os\n",
    "\n",
    "# create a configuration object using the settings.cfg file included in NDATools package\n",
    "config = Configuration.ClientConfiguration(os.path.join(os.path.expanduser('~'), '.NDATools/settings.cfg'))\n",
    "\n",
    "# create a validation object with a list of files for validation and the config object\n",
    "file_list = input('Enter a list of files for validation:')\n",
    "file_list = file_list.split(' ')\n",
    "validation = Validation.Validation(file_list, config=config)#, hide_progress=False)\n",
    "\n",
    "#if your data has manifest files, upload manifest file locations\n",
    "manifest_path = input('Enter location of where manifest file(s) is located:')\n",
    "manifest_path = manifest_path.split(' ')\n",
    "validation.manifest_path = manifest_path\n",
    "\n",
    "#call the validation function\n",
    "button = widgets.Button(description='Validate!')\n",
    "display(button)\n",
    "\n",
    "def on_button_clicked(b):\n",
    "    validation.validate()\n",
    "    print(\"Validating data\")\n",
    "\n",
    "button.on_click(on_button_clicked)"
   ]
  },
  {
   "cell_type": "code",
   "execution_count": null,
   "metadata": {},
   "outputs": [],
   "source": [
    "from NDATools import BuildPackage\n",
    "uuid = validation.uuid\n",
    "associated_files = validation.associated_files\n",
    "\n",
    "\n",
    "package = BuildPackage.SubmissionPackage(uuid, associated_files, \n",
    "                            collection=1860, #2839\n",
    "                            title='nda-tools-test', \n",
    "                            description='testing NDATools',\n",
    "                            alternate_location=None, \n",
    "                            config=config)\n",
    "        \n",
    "\n",
    "# this step is critical. The script needs to locate every associated file that needs to be uploaded. \n",
    "# the file can be saved locally, or in S3\n",
    "if associated_files:\n",
    "    config.source_bucket = None\n",
    "    config.source_prefix = None\n",
    "    directories= None\n",
    "    package.file_search(directories, config.source_bucket, config.source_prefix, \n",
    "                        config.aws_access_key, config.aws_secret_key, retry_allowed=True)\n",
    "    \n",
    "\n",
    "print(package.full_file_path)\n",
    "\n",
    "    "
   ]
  },
  {
   "cell_type": "code",
   "execution_count": null,
   "metadata": {},
   "outputs": [],
   "source": [
    "# call funtion to build package\n",
    "button = widgets.Button(description='Build Package!')\n",
    "display(button)\n",
    "\n",
    "def on_button_clicked(b):\n",
    "    package.build_package()\n",
    "    print('Building package')\n",
    "    print('\\n\\nPackage Information:')\n",
    "    print('validation results: {}'.format(package.validation_results))\n",
    "    print('submission_package_uuid: {}'.format(package.submission_package_uuid))\n",
    "    print('created date: {}'.format(package.create_date))\n",
    "    print('expiration date: {}'.format(package.expiration_date))\n",
    "\n",
    "button.on_click(on_button_clicked)\n",
    "\n",
    "\n"
   ]
  },
  {
   "cell_type": "code",
   "execution_count": null,
   "metadata": {},
   "outputs": [],
   "source": [
    "from NDATools import Submission\n",
    "\n",
    "package_id = package.submission_package_uuid\n",
    "full_file_path = package.full_file_path\n",
    "submission = Submission.Submission(package_id, full_file_path, config=config)\n",
    "\n",
    "\n",
    "#call the submission function\n",
    "button = widgets.Button(description='Submit package data!')\n",
    "display(button)\n",
    "\n",
    "def on_button_clicked(b):\n",
    "    submission.submit()\n",
    "    print('Submitting data.')\n",
    "    if submission.submission_id:\n",
    "        print('\\nSubmission ID: {}'.format(str(submission.submission_id)))\n",
    "    \n",
    "\n",
    "button.on_click(on_button_clicked)\n",
    "\n",
    "\n"
   ]
  },
  {
   "cell_type": "code",
   "execution_count": null,
   "metadata": {},
   "outputs": [],
   "source": [
    "#call the submission function\n",
    "button = widgets.Button(description='Upload associated files!')\n",
    "display(button)\n",
    "\n",
    "def on_button_clicked(b):\n",
    "    if associated_files:\n",
    "        print('Uploading files.')\n",
    "        submission.submission_upload(hide_progress=False)\n",
    "    if submission.status != 'Uploading':\n",
    "        print('\\nYou have successfully completed uploading files for submission {}!'.format(submission.submission_id))\n",
    "\n",
    "button.on_click(on_button_clicked)\n",
    " \n",
    "    "
   ]
  },
  {
   "cell_type": "markdown",
   "metadata": {},
   "source": [
    "<html>\n",
    "    <div style = \"display: inline-block; width=150px; height=75px;\">\n",
    "        <h2>Downloading Data Using nda-tools</h2>\n",
    "        <ul><li>As of now, a user must create a download package using the browser interface</li>\n",
    "           <li>nda-tools allows users to directly download all files in the package</li>\n",
    "           <li>It provides the ability to download a subset of the data ie. specific number of records of associated files from image03</li>\n",
    "           <li>Accepts s3 links to download in various forms, explained below</ul>\n",
    "    </div>\n",
    "    \n",
    "</html>"
   ]
  },
  {
   "cell_type": "code",
   "execution_count": null,
   "metadata": {},
   "outputs": [],
   "source": [
    "from NDATools import Configuration, Download\n",
    "import os\n",
    "\n",
    "# create a configuration object using the settings.cfg file included in NDATools package\n",
    "config = Configuration.ClientConfiguration(os.path.join(os.path.expanduser('~'), '.NDATools/settings.cfg'))\n",
    "\n",
    "\n",
    "# create a download object by passing in the directory where files will be saved\n",
    "dir = os.path.join(os.path.expanduser('~'), 'AWS_downloads')\n",
    "download = Download.Download(dir, config, verbose=True)\n"
   ]
  },
  {
   "cell_type": "markdown",
   "metadata": {},
   "source": [
    "<html>\n",
    "    <div style = \"display: inline-block; width=150px; height=75px;\">\n",
    "        <h2>There are several ways to obtain S3 links:</h2>\n",
    "        <ul><li>pass in the \"text\" parameter to indicate all your s3 links are in a .txt file. Then pass in the location of that text file</li>\n",
    "           <li>pass in the \"package\" parameter, followed by the package ID.</li>\n",
    "           <li>pass in \"datastructure\" to indicate all s3 links from the specified data structure should be downloaded, then enter the path to your data strucutre text file.</li>\n",
    "           <li>lastly, pass in the \"paths\" parameter to indicate all s3 links are to be downloaded, and then enter the list of s3 links.</ul>\n",
    "    </div>\n",
    "    \n",
    "</html>"
   ]
  },
  {
   "cell_type": "code",
   "execution_count": null,
   "metadata": {},
   "outputs": [],
   "source": [
    "from ipywidgets import widgets\n",
    "from IPython.display import display\n",
    "\n",
    "#114980\n",
    "\n",
    "button = widgets.Button(description='Submit!')\n",
    "\n",
    "def on_button_clicked(b):\n",
    "    for v in tab.children:\n",
    "        if v.value is not \"\":\n",
    "            if \"package\" in v.placeholder:\n",
    "                download.get_links('package',[v.value])\n",
    "            if \"text\" in v.placeholder:\n",
    "                download.get_links('text',[v.value])\n",
    "            if \"data\" in v.placeholder:\n",
    "                download.get_links('datastructure',[v.value])\n",
    "            if \"s3\" in v.placeholder:\n",
    "                download.get_links('path',[v.value])\n",
    "        \n",
    "tab_contents = ['package ID', 'text file', 'data structure file', 's3 links']\n",
    "children = [widgets.Text(value = '', placeholder='Enter a {}'.format(name)) for name in tab_contents]\n",
    "tab = widgets.Tab()\n",
    "tab.children = children\n",
    "\n",
    "i = 0\n",
    "for t in tab_contents:\n",
    "    tab.set_title(i, t)\n",
    "    i += 1\n",
    "\n",
    "button.on_click(on_button_clicked)\n",
    "display(tab,button)\n",
    "\n"
   ]
  },
  {
   "cell_type": "code",
   "execution_count": null,
   "metadata": {},
   "outputs": [],
   "source": [
    "print(download.path_list)"
   ]
  },
  {
   "cell_type": "code",
   "execution_count": null,
   "metadata": {},
   "outputs": [],
   "source": [
    "#will generate temporary federated tokens to access NDA buckets in AWS\n",
    "#NOTE: these credentials expire in 24 hours. Users will need to refresh tokens if download exceeds this time\n",
    "\n",
    "button = widgets.Button(description='Get Tokens!')\n",
    "\n",
    "def on_button_clicked(b):\n",
    "    download.get_tokens()\n",
    "    print('ACCESS KEY:', download.access_key,\n",
    "      '\\n\\nSECRET KEY:', download.secret_key,\n",
    "      '\\n\\nSESSION TOKEN:', download.session)\n",
    "\n",
    "button.on_click(on_button_clicked)\n",
    "\n",
    "display(button)"
   ]
  },
  {
   "cell_type": "code",
   "execution_count": null,
   "metadata": {},
   "outputs": [],
   "source": [
    "# start_workers function creates a fixed number of threads to begin downloading your s3 links \n",
    "#in parallel for effeciency\n",
    "\n",
    "#resume and prev_directory indicate to the program if it should search previously downloaded files before initiating\n",
    "#the download for each s3 link. \n",
    "#used if download is restarted\n",
    "\n",
    "button = widgets.Button(description='Start Download!')\n",
    "\n",
    "def on_button_clicked(b):\n",
    "    download.start_workers(resume=False, prev_directory=None)\n",
    "button.on_click(on_button_clicked)\n",
    "display(button)\n"
   ]
  },
  {
   "cell_type": "code",
   "execution_count": null,
   "metadata": {},
   "outputs": [],
   "source": []
  }
 ],
 "metadata": {
  "kernelspec": {
   "display_name": "Python 3",
   "language": "python",
   "name": "python3"
  },
  "language_info": {
   "codemirror_mode": {
    "name": "ipython",
    "version": 3
   },
   "file_extension": ".py",
   "mimetype": "text/x-python",
   "name": "python",
   "nbconvert_exporter": "python",
   "pygments_lexer": "ipython3",
   "version": "3.7.0"
  }
 },
 "nbformat": 4,
 "nbformat_minor": 2
}
